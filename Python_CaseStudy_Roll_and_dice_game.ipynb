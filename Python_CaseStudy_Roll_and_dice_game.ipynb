{
 "cells": [
  {
   "cell_type": "code",
   "execution_count": 2,
   "id": "b65df30e",
   "metadata": {},
   "outputs": [
    {
     "name": "stdout",
     "output_type": "stream",
     "text": [
      "Rolling the dice...\n",
      "After rolling you get  6\n",
      "Do you want to roll the dice again? (yes/no): y\n",
      "Rolling the dice...\n",
      "After rolling you get  3\n",
      "Do you want to roll the dice again? (yes/no): y\n",
      "Rolling the dice...\n",
      "After rolling you get  4\n",
      "Do you want to roll the dice again? (yes/no): n\n",
      "Thanks for playing! Goodbye!\n"
     ]
    }
   ],
   "source": [
    "import random\n",
    "\n",
    "def roll():\n",
    "    min_value = 1\n",
    "    max_value = 6\n",
    "    return random.randint(min_value, max_value)\n",
    "\n",
    "def game():\n",
    "    while True:\n",
    "        print(\"Rolling the dice...\")\n",
    "        dice_value = roll()\n",
    "        \n",
    "        print(\"After rolling you get \", dice_value)\n",
    "        \n",
    "        roll_again = input(\"Do you want to roll the dice again? (yes/no): \")\n",
    "        if roll_again.lower() not in ['yes', 'y']:\n",
    "            print(\"Thanks for playing! Goodbye!\")\n",
    "            break\n",
    "game()"
   ]
  }
 ],
 "metadata": {
  "kernelspec": {
   "display_name": "Python 3 (ipykernel)",
   "language": "python",
   "name": "python3"
  },
  "language_info": {
   "codemirror_mode": {
    "name": "ipython",
    "version": 3
   },
   "file_extension": ".py",
   "mimetype": "text/x-python",
   "name": "python",
   "nbconvert_exporter": "python",
   "pygments_lexer": "ipython3",
   "version": "3.10.9"
  }
 },
 "nbformat": 4,
 "nbformat_minor": 5
}
